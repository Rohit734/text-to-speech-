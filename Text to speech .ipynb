{
 "cells": [
  {
   "cell_type": "markdown",
   "id": "ae9b421b",
   "metadata": {},
   "source": [
    "# TASK 1\n",
    "- Develop a text-to-speech project using Python. Your program should take input text and convert it into speech output. Ensure that the program is able to handle various text inputs and produce clear and understandable speech output."
   ]
  },
  {
   "cell_type": "code",
   "execution_count": null,
   "id": "3c4e341f",
   "metadata": {},
   "outputs": [],
   "source": [
    "!pip install pyttsx3 "
   ]
  },
  {
   "cell_type": "code",
   "execution_count": 5,
   "id": "d99c66e5",
   "metadata": {},
   "outputs": [],
   "source": [
    "import pyttsx3\n",
    "engine = pyttsx3.init()\n",
    "rate = engine.getProperty('rate')\n",
    "engine.setProperty('rate', rate-40)"
   ]
  },
  {
   "cell_type": "code",
   "execution_count": 8,
   "id": "713dda98",
   "metadata": {},
   "outputs": [
    {
     "name": "stdout",
     "output_type": "stream",
     "text": [
      "Enter text you want to convert to speech..    नमस्ते\n"
     ]
    }
   ],
   "source": [
    "text = input(\"Enter text you want to convert to speech..    \")\n"
   ]
  },
  {
   "cell_type": "code",
   "execution_count": 9,
   "id": "4480f242",
   "metadata": {},
   "outputs": [],
   "source": [
    "engine.say(text)\n",
    "engine.runAndWait()"
   ]
  },
  {
   "cell_type": "code",
   "execution_count": null,
   "id": "f36002c7",
   "metadata": {},
   "outputs": [],
   "source": []
  }
 ],
 "metadata": {
  "kernelspec": {
   "display_name": "Python 3 (ipykernel)",
   "language": "python",
   "name": "python3"
  },
  "language_info": {
   "codemirror_mode": {
    "name": "ipython",
    "version": 3
   },
   "file_extension": ".py",
   "mimetype": "text/x-python",
   "name": "python",
   "nbconvert_exporter": "python",
   "pygments_lexer": "ipython3",
   "version": "3.11.5"
  }
 },
 "nbformat": 4,
 "nbformat_minor": 5
}
